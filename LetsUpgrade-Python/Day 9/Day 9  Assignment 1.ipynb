{
 "cells": [
  {
   "cell_type": "markdown",
   "metadata": {},
   "source": [
    "# Day 9 Assignment 1"
   ]
  },
  {
   "cell_type": "code",
   "execution_count": 87,
   "metadata": {},
   "outputs": [
    {
     "name": "stdout",
     "output_type": "stream",
     "text": [
      "Overwriting primechecker.py\n"
     ]
    }
   ],
   "source": [
    "%%writefile primechecker.py\n",
    "# stupid comment\n",
    "'''another stupid comment'''\n",
    "def check_prime(num):\n",
    "    if num > 1:\n",
    "        for i in range(2, num):\n",
    "            if (num % i) == 0:\n",
    "                print(num, \"is not a prime number\")\n",
    "            else:\n",
    "                print(num, \"is a prime number\")\n",
    "\n",
    "    else:\n",
    "        print(num, \"is not a prime number\")"
   ]
  },
  {
   "cell_type": "code",
   "execution_count": 38,
   "metadata": {},
   "outputs": [
    {
     "name": "stdout",
     "output_type": "stream",
     "text": [
      "************* Module primechecker\n",
      "primechecker.py:3:0: C0116: Missing function or method docstring (missing-function-docstring)\n",
      "\n",
      "------------------------------------------------------------------\n",
      "\n",
      "Your code has been rated at 8.57/10 (previous run: 7.50/10, +1.07)\n",
      "\n",
      "\n",
      "\n"
     ]
    }
   ],
   "source": [
    "! pylint \"primechecker.py\""
   ]
  },
  {
   "cell_type": "code",
   "execution_count": 39,
   "metadata": {},
   "outputs": [],
   "source": [
    "#------------------------------------"
   ]
  },
  {
   "cell_type": "code",
   "execution_count": 41,
   "metadata": {},
   "outputs": [],
   "source": [
    "#using unittesing"
   ]
  },
  {
   "cell_type": "code",
   "execution_count": 85,
   "metadata": {},
   "outputs": [
    {
     "name": "stdout",
     "output_type": "stream",
     "text": [
      "Overwriting prime-checkr.py\n"
     ]
    }
   ],
   "source": [
    "%%writefile prime-checkr.py\n",
    "import unittest\n",
    "\n",
    "class primecheckr(unittest.TestCase):\n",
    "    def check_prime(self,num):\n",
    "        if num > 1:\n",
    "            for i in range(2, num):\n",
    "                if (num % i) == 0:\n",
    "                    print(num, \"is not a prime number\")\n",
    "                else:\n",
    "                    print(num, \"is a prime number\")\n",
    "\n",
    "        else:\n",
    "            print(num, \"is not a prime number\")\n",
    "        \n",
    "    def ansckr(self):\n",
    "        check_prime(2)\n",
    "        result = \"is a prime number\"\n",
    "        self.assertEquals(result,\"is a prime number\")\n",
    "        \n",
    "\n",
    "    \n",
    "unittest.main(argv=['first-arg-is-ignored'], exit=False)\n",
    "    "
   ]
  },
  {
   "cell_type": "code",
   "execution_count": 86,
   "metadata": {},
   "outputs": [
    {
     "name": "stderr",
     "output_type": "stream",
     "text": [
      "\n",
      "----------------------------------------------------------------------\n",
      "Ran 0 tests in 0.000s\n",
      "\n",
      "OK\n"
     ]
    }
   ],
   "source": [
    "! python prime-checkr.py"
   ]
  },
  {
   "cell_type": "code",
   "execution_count": 76,
   "metadata": {},
   "outputs": [],
   "source": []
  }
 ],
 "metadata": {
  "kernelspec": {
   "display_name": "Python 3",
   "language": "python",
   "name": "python3"
  },
  "language_info": {
   "codemirror_mode": {
    "name": "ipython",
    "version": 3
   },
   "file_extension": ".py",
   "mimetype": "text/x-python",
   "name": "python",
   "nbconvert_exporter": "python",
   "pygments_lexer": "ipython3",
   "version": "3.8.3"
  }
 },
 "nbformat": 4,
 "nbformat_minor": 4
}
